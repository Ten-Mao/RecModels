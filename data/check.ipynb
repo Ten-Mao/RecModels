{
 "cells": [
  {
   "cell_type": "code",
   "execution_count": 1,
   "metadata": {},
   "outputs": [],
   "source": [
    "import pandas as pd\n",
    "import json\n",
    "\n",
    "items = {}\n",
    "item_df = pd.read_csv('Beauty2014/Beauty2014.item.csv')\n",
    "for row in item_df.itertuples():\n",
    "    item_id = getattr(row, \"item_id\")\n",
    "    title = getattr(row, \"title\")\n",
    "    discription = getattr(row, \"description\")\n",
    "    title = \"\" if pd.isnull(title) else title\n",
    "    discription = \"\" if pd.isnull(discription) else discription\n",
    "    items[item_id] = {\"title\": title, \"discription\": discription}\n",
    "\n",
    "with open('Beauty2014/Beauty2014.item.json', 'w') as f:\n",
    "    json.dump(items, f, ensure_ascii=False, indent=4)\n",
    "\n",
    "inters = {}\n",
    "inter_df = pd.read_csv(\"Beauty2014/Beauty2014.inter.csv\")\n",
    "for row in inter_df.itertuples():\n",
    "    user_id = getattr(row, \"user_id\")\n",
    "    item_id = getattr(row, \"item_id\")\n",
    "    if user_id not in inters:\n",
    "        inters[user_id] = []\n",
    "    inters[user_id].append(item_id)\n",
    "\n",
    "with open('Beauty2014/Beauty2014.inter.json', 'w') as f:\n",
    "    json.dump(inters, f, ensure_ascii=False, indent=4)\n"
   ]
  },
  {
   "cell_type": "code",
   "execution_count": 2,
   "metadata": {},
   "outputs": [
    {
     "name": "stdout",
     "output_type": "stream",
     "text": [
      "item_avg_count: 16.403768283612923\n",
      "train_target_count: 53.21257409845297\n",
      "valid_target_count: 45.58297187318338\n",
      "test_target_count: 40.97030809819792\n"
     ]
    }
   ],
   "source": [
    "import pandas as pd\n",
    "inters = {}\n",
    "inter_df = pd.read_csv(\"Beauty2014/Beauty2014.inter.csv\")\n",
    "for row in inter_df.itertuples():\n",
    "    user_id = getattr(row, \"user_id\")\n",
    "    item_id = getattr(row, \"item_id\")\n",
    "    if user_id not in inters:\n",
    "        inters[user_id] = []\n",
    "    inters[user_id].append(item_id)\n",
    "\n",
    "user_count = {}\n",
    "item_count = {}\n",
    "\n",
    "for user_id, items in inters.items():\n",
    "    for item_id in items:\n",
    "        if item_id not in item_count:\n",
    "            item_count[item_id] = 0\n",
    "        item_count[item_id] += 1\n",
    "    user_count[user_id] = len(items)\n",
    "\n",
    "train_target_count = []\n",
    "valid_target_count = []\n",
    "test_target_count = []\n",
    "\n",
    "for user_id, items in inters.items():\n",
    "    for index in range(1, len(items)-2):\n",
    "        train_target_count.append(item_count[items[index]])\n",
    "    valid_target_count.append(item_count[items[-2]])\n",
    "    test_target_count.append(item_count[items[-1]])\n",
    "print(f\"item_avg_count: {sum(item_count.values())/len(item_count)}\")\n",
    "print(f\"train_target_count: {sum(train_target_count)/len(train_target_count)}\")\n",
    "print(f\"valid_target_count: {sum(valid_target_count)/len(valid_target_count)}\")\n",
    "print(f\"test_target_count: {sum(test_target_count)/len(test_target_count)}\")"
   ]
  }
 ],
 "metadata": {
  "kernelspec": {
   "display_name": "Python 3",
   "language": "python",
   "name": "python3"
  },
  "language_info": {
   "codemirror_mode": {
    "name": "ipython",
    "version": 3
   },
   "file_extension": ".py",
   "mimetype": "text/x-python",
   "name": "python",
   "nbconvert_exporter": "python",
   "pygments_lexer": "ipython3",
   "version": "3.9.21"
  }
 },
 "nbformat": 4,
 "nbformat_minor": 2
}
